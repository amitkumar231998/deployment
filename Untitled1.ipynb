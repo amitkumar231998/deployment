{
 "cells": [
  {
   "cell_type": "code",
   "execution_count": null,
   "metadata": {},
   "outputs": [
    {
     "name": "stdout",
     "output_type": "stream",
     "text": [
      " * Serving Flask app \"__main__\" (lazy loading)\n",
      " * Environment: production\n",
      "   WARNING: This is a development server. Do not use it in a production deployment.\n",
      "   Use a production WSGI server instead.\n",
      " * Debug mode: off\n"
     ]
    },
    {
     "name": "stderr",
     "output_type": "stream",
     "text": [
      " * Running on http://127.0.0.1:5000/ (Press CTRL+C to quit)\n",
      "127.0.0.1 - - [14/Jul/2021 12:00:07] \"\u001b[37mGET / HTTP/1.1\u001b[0m\" 200 -\n",
      "127.0.0.1 - - [14/Jul/2021 12:00:07] \"\u001b[33mGET /styles/pred.css HTTP/1.1\u001b[0m\" 404 -\n",
      "127.0.0.1 - - [14/Jul/2021 12:00:08] \"\u001b[36mGET /static/visualization.png HTTP/1.1\u001b[0m\" 304 -\n",
      "127.0.0.1 - - [14/Jul/2021 12:00:08] \"\u001b[36mGET /static/segmentation.png HTTP/1.1\u001b[0m\" 304 -\n",
      "127.0.0.1 - - [14/Jul/2021 12:00:08] \"\u001b[36mGET /static/Prediction.jpg HTTP/1.1\u001b[0m\" 304 -\n",
      "127.0.0.1 - - [14/Jul/2021 12:00:08] \"\u001b[36mGET /static/health.jpg HTTP/1.1\u001b[0m\" 304 -\n",
      "127.0.0.1 - - [14/Jul/2021 12:00:08] \"\u001b[36mGET /static/style.css HTTP/1.1\u001b[0m\" 304 -\n",
      "127.0.0.1 - - [14/Jul/2021 12:00:11] \"\u001b[37mGET /prediction.html HTTP/1.1\u001b[0m\" 200 -\n",
      "127.0.0.1 - - [14/Jul/2021 12:00:11] \"\u001b[36mGET /static/e_read.css HTTP/1.1\u001b[0m\" 304 -\n",
      "127.0.0.1 - - [14/Jul/2021 12:00:51] \"\u001b[37mGET /visualization.html HTTP/1.1\u001b[0m\" 200 -\n",
      "127.0.0.1 - - [14/Jul/2021 12:01:17] \"\u001b[37mGET /prediction.html HTTP/1.1\u001b[0m\" 200 -\n",
      "127.0.0.1 - - [14/Jul/2021 12:01:22] \"\u001b[37mGET /index.html HTTP/1.1\u001b[0m\" 200 -\n",
      "127.0.0.1 - - [14/Jul/2021 12:01:22] \"\u001b[33mGET /styles/pred.css HTTP/1.1\u001b[0m\" 404 -\n"
     ]
    }
   ],
   "source": [
    "import numpy as np\n",
    "from flask import Flask, request, render_template\n",
    "import pickle\n",
    "\n",
    "app = Flask(__name__)\n",
    "model = pickle.load(open('excute.pkl', 'rb'))\n",
    "\n",
    "@app.route('/')\n",
    "@app.route('/index.html')\n",
    "def home():\n",
    "    return render_template('index.html')\n",
    "\n",
    "@app.route('/prediction.html')\n",
    "def pred():\n",
    "    return render_template('prediction.html')\n",
    "\n",
    "@app.route('/visualization.html')\n",
    "def vis():\n",
    "    return render_template('visualization.html')\n",
    "\n",
    "\n",
    "@app.route('/predict',methods=['POST'])\n",
    "def predict():\n",
    "    '''\n",
    "    For rendering results on HTML GUI\n",
    "    '''\n",
    "    int_features = [int(x) for x in request.form.values()]\n",
    "    final_features = [np.array(int_features)]\n",
    "    prediction = model.predict(final_features)\n",
    "    print(prediction)\n",
    "    output = round(prediction[0], 2)\n",
    "    print(output)\n",
    "    if (output==0):\n",
    "        a=\"Chances of Customer Renewing Policy: Yes\"\n",
    "        print(a)\n",
    "    else:\n",
    "        a=\"Chances of Customer Renewing Policy : No\" \n",
    "        print(a)\n",
    "\n",
    "    return render_template('prediction.html',prediction_text=a)\n",
    "if __name__ == \"__main__\":\n",
    "    app.run()\n"
   ]
  },
  {
   "cell_type": "code",
   "execution_count": null,
   "metadata": {},
   "outputs": [],
   "source": []
  }
 ],
 "metadata": {
  "kernelspec": {
   "display_name": "Python 3",
   "language": "python",
   "name": "python3"
  },
  "language_info": {
   "codemirror_mode": {
    "name": "ipython",
    "version": 3
   },
   "file_extension": ".py",
   "mimetype": "text/x-python",
   "name": "python",
   "nbconvert_exporter": "python",
   "pygments_lexer": "ipython3",
   "version": "3.8.5"
  }
 },
 "nbformat": 4,
 "nbformat_minor": 4
}
